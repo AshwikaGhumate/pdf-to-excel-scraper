{
  "nbformat": 4,
  "nbformat_minor": 0,
  "metadata": {
    "colab": {
      "provenance": []
    },
    "kernelspec": {
      "name": "python3",
      "display_name": "Python 3"
    },
    "language_info": {
      "name": "python"
    }
  },
  "cells": [
    {
      "cell_type": "code",
      "execution_count": 2,
      "metadata": {
        "colab": {
          "base_uri": "https://localhost:8080/"
        },
        "id": "jVsQa8uC50qL",
        "outputId": "7ff69019-4718-4b8c-a659-3e1513ab7850"
      },
      "outputs": [
        {
          "output_type": "stream",
          "name": "stdout",
          "text": [
            "Requirement already satisfied: pdfplumber in /usr/local/lib/python3.10/dist-packages (0.11.4)\n",
            "Requirement already satisfied: pandas in /usr/local/lib/python3.10/dist-packages (2.2.2)\n",
            "Requirement already satisfied: openpyxl in /usr/local/lib/python3.10/dist-packages (3.1.5)\n",
            "Requirement already satisfied: pymupdf in /usr/local/lib/python3.10/dist-packages (1.24.13)\n",
            "Requirement already satisfied: pdfminer.six==20231228 in /usr/local/lib/python3.10/dist-packages (from pdfplumber) (20231228)\n",
            "Requirement already satisfied: Pillow>=9.1 in /usr/local/lib/python3.10/dist-packages (from pdfplumber) (10.4.0)\n",
            "Requirement already satisfied: pypdfium2>=4.18.0 in /usr/local/lib/python3.10/dist-packages (from pdfplumber) (4.30.0)\n",
            "Requirement already satisfied: charset-normalizer>=2.0.0 in /usr/local/lib/python3.10/dist-packages (from pdfminer.six==20231228->pdfplumber) (3.4.0)\n",
            "Requirement already satisfied: cryptography>=36.0.0 in /usr/local/lib/python3.10/dist-packages (from pdfminer.six==20231228->pdfplumber) (43.0.3)\n",
            "Requirement already satisfied: numpy>=1.22.4 in /usr/local/lib/python3.10/dist-packages (from pandas) (1.26.4)\n",
            "Requirement already satisfied: python-dateutil>=2.8.2 in /usr/local/lib/python3.10/dist-packages (from pandas) (2.8.2)\n",
            "Requirement already satisfied: pytz>=2020.1 in /usr/local/lib/python3.10/dist-packages (from pandas) (2024.2)\n",
            "Requirement already satisfied: tzdata>=2022.7 in /usr/local/lib/python3.10/dist-packages (from pandas) (2024.2)\n",
            "Requirement already satisfied: et-xmlfile in /usr/local/lib/python3.10/dist-packages (from openpyxl) (2.0.0)\n",
            "Requirement already satisfied: six>=1.5 in /usr/local/lib/python3.10/dist-packages (from python-dateutil>=2.8.2->pandas) (1.16.0)\n",
            "Requirement already satisfied: cffi>=1.12 in /usr/local/lib/python3.10/dist-packages (from cryptography>=36.0.0->pdfminer.six==20231228->pdfplumber) (1.17.1)\n",
            "Requirement already satisfied: pycparser in /usr/local/lib/python3.10/dist-packages (from cffi>=1.12->cryptography>=36.0.0->pdfminer.six==20231228->pdfplumber) (2.22)\n"
          ]
        }
      ],
      "source": [
        "pip install pdfplumber pandas openpyxl pymupdf"
      ]
    },
    {
      "cell_type": "code",
      "source": [
        "import fitz  # Import PyMuPDF for PDF manipulation\n",
        "import pdfplumber  # Import pdfplumber for text extraction from PDFs\n",
        "import pandas as pd  # Import pandas for data manipulation and analysis\n",
        "import re  # Import regular expressions for pattern matching\n",
        "\n",
        "def extract_voucher_details(text):\n",
        "    \"\"\"\n",
        "    Extracts voucher details from the provided text.\n",
        "\n",
        "    Args:\n",
        "        text (str): The text content of a PDF page.\n",
        "\n",
        "    Returns:\n",
        "        dict: A dictionary containing the voucher name, number, and date.\n",
        "    \"\"\"\n",
        "\n",
        "    # Extract Voucher Name using regex\n",
        "    voucher_name_match = re.search(r\"(\\w*\\s*Voucher)\", text)\n",
        "    voucher_name = voucher_name_match.group(1) if voucher_name_match else \"N/A\"\n",
        "\n",
        "    # Extract Voucher Number\n",
        "    no_match = re.search(r\"No\\.\\s*:\\s*(\\S+)\", text)\n",
        "    no = no_match.group(1) if no_match else \"N/A\"\n",
        "\n",
        "    # Extract Date using various date formats without relying on 'Dated'\n",
        "    date_match = re.search(r\"\\b(\\d{1,2}-\\w{3}-\\d{2,4}|\\d{1,2}/\\d{1,2}/\\d{2,4}|\\d{1,2}-\\d{1,2}-\\d{2,4})\\b\", text)\n",
        "    date = date_match.group(1).strip() if date_match else \"N/A\"\n",
        "\n",
        "    return {\n",
        "        \"Voucher Name\": voucher_name,\n",
        "        \"No\": no,\n",
        "        \"Date\": date,\n",
        "    }\n",
        "\n",
        "# Define the path to the PDF file\n",
        "pdf_path = \"data.pdf\"\n",
        "\n",
        "# Initialize lists to store extracted data\n",
        "extracted_particulars = []  # For storing particulars\n",
        "voucher_data = []  # For storing voucher details\n",
        "extracted_onaccountof = []  # For storing 'On Account of' data\n",
        "\n",
        "# Process the PDF using pdfplumber\n",
        "with pdfplumber.open(pdf_path) as pdf:\n",
        "    # Iterate through each page of the PDF\n",
        "    for page_num, page in enumerate(pdf.pages):\n",
        "        text = page.extract_text()  # Extract text from the page\n",
        "        if \"Voucher\" in text:  # Process only pages that contain 'Voucher'\n",
        "            details = extract_voucher_details(text)  # Extract voucher details\n",
        "            voucher_data.append(details)  # Add extracted data to the list\n",
        "\n",
        "# Extract particulars using PyMuPDF\n",
        "with fitz.open(pdf_path) as pdf:\n",
        "    # Iterate through each page of the PDF\n",
        "    for page_num in range(pdf.page_count):\n",
        "        page = pdf[page_num]\n",
        "        text = page.get_text()  # Get text content of the page\n",
        "\n",
        "        if \"Voucher\" in text:  # Process only pages that contain 'Voucher'\n",
        "            lines = text.split('\\n')  # Split text into lines\n",
        "\n",
        "            # Extract particulars that follow 'Particulars'\n",
        "            for i, line in enumerate(lines):\n",
        "                if \"Particulars\" in line:\n",
        "                    for j in range(i + 1, len(lines)):\n",
        "                        first_line_below = lines[j].strip()  # Get the next line\n",
        "                        # Validate the line to exclude certain keywords\n",
        "                        if first_line_below and \"|\" not in first_line_below and \"Amount\" not in first_line_below and \"Debit\" not in first_line_below and \"Credit\" not in first_line_below and \"Account:\" not in first_line_below:\n",
        "                            extracted_particulars.append(first_line_below)  # Append valid line to extracted particulars\n",
        "                            break\n",
        "                    break  # Stop after processing the particulars\n",
        "\n",
        "            # Locate \"On Account of\" and collect relevant lines below it\n",
        "            for i, line in enumerate(lines):\n",
        "                if \"On Account of\" in line:\n",
        "                    current_extracted = []  # List to hold 'On Account of' lines\n",
        "                    # Collect all subsequent lines until a keyword is encountered\n",
        "                    for j in range(i + 1, len(lines)):\n",
        "                        first_line_below = lines[j].strip()\n",
        "                        # Check if the line is valid to be included\n",
        "                        if first_line_below:\n",
        "                            # Break if encountering specific keywords\n",
        "                            if (any(keyword in first_line_below for keyword in [\"Amount (in words)\", \"Debit\", \"Dated\", \"Credit\", \"Amount\", \"Dr\", \"Amount (in words) :\", \"Amount {in words) :\"])):\n",
        "                                break  # Stop processing when encountering any of these\n",
        "                            current_extracted.append(first_line_below)  # Append valid line\n",
        "                        else:\n",
        "                            break  # Stop if an empty line is encountered\n",
        "                    text = \" \".join(current_extracted)  # Join collected lines into a single string\n",
        "                    extracted_onaccountof.append(text)  # Append to extracted 'On Account of' data\n",
        "                    break  # Stop searching once processed\n",
        "\n",
        "# Create DataFrames for each type of extracted data\n",
        "df_vouchers = pd.DataFrame(voucher_data)  # DataFrame for voucher details\n",
        "df_particulars = pd.DataFrame(extracted_particulars, columns=['Particulars'])  # DataFrame for particulars\n",
        "df_accountof = pd.DataFrame(extracted_onaccountof, columns=['On account of'])  # DataFrame for 'On Account of' data\n",
        "\n",
        "# Combine DataFrames into a single DataFrame\n",
        "df_combined = pd.concat([df_vouchers, df_particulars, df_accountof], axis=1)\n",
        "\n",
        "# Save the combined DataFrame to a single Excel file\n",
        "df_combined.to_excel(\"extracted_data.xlsx\", index=False)\n",
        "\n",
        "print(\"Data extracted and saved to 'extracted_data.xlsx'\")"
      ],
      "metadata": {
        "colab": {
          "base_uri": "https://localhost:8080/"
        },
        "id": "-1lTRzRk556p",
        "outputId": "7738ae9d-a808-4fe6-bf29-bfc4a0ad67e1"
      },
      "execution_count": 3,
      "outputs": [
        {
          "output_type": "stream",
          "name": "stdout",
          "text": [
            "Data extracted and saved to 'extracted_data.xlsx'\n"
          ]
        }
      ]
    }
  ]
}